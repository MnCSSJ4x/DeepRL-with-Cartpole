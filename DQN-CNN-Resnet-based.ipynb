{
 "cells": [
  {
   "cell_type": "code",
   "execution_count": 1,
   "id": "49e17abe",
   "metadata": {
    "execution": {
     "iopub.execute_input": "2024-03-26T19:09:18.273111Z",
     "iopub.status.busy": "2024-03-26T19:09:18.272260Z",
     "iopub.status.idle": "2024-03-26T19:09:44.668889Z",
     "shell.execute_reply": "2024-03-26T19:09:44.667934Z"
    },
    "id": "GsgMG6fNM_Ku",
    "outputId": "33a8901d-0f4c-41d4-87ac-1e0d1dd36959",
    "papermill": {
     "duration": 26.409578,
     "end_time": "2024-03-26T19:09:44.671249",
     "exception": false,
     "start_time": "2024-03-26T19:09:18.261671",
     "status": "completed"
    },
    "tags": []
   },
   "outputs": [
    {
     "name": "stdout",
     "output_type": "stream",
     "text": [
      "Requirement already satisfied: gymnasium in /opt/conda/lib/python3.10/site-packages (0.29.0)\r\n",
      "Requirement already satisfied: numpy>=1.21.0 in /opt/conda/lib/python3.10/site-packages (from gymnasium) (1.26.4)\r\n",
      "Requirement already satisfied: cloudpickle>=1.2.0 in /opt/conda/lib/python3.10/site-packages (from gymnasium) (2.2.1)\r\n",
      "Requirement already satisfied: typing-extensions>=4.3.0 in /opt/conda/lib/python3.10/site-packages (from gymnasium) (4.9.0)\r\n",
      "Requirement already satisfied: farama-notifications>=0.0.1 in /opt/conda/lib/python3.10/site-packages (from gymnasium) (0.0.4)\r\n",
      "Collecting pygame\r\n",
      "  Downloading pygame-2.5.2-cp310-cp310-manylinux_2_17_x86_64.manylinux2014_x86_64.whl.metadata (13 kB)\r\n",
      "Downloading pygame-2.5.2-cp310-cp310-manylinux_2_17_x86_64.manylinux2014_x86_64.whl (14.0 MB)\r\n",
      "\u001b[2K   \u001b[90m━━━━━━━━━━━━━━━━━━━━━━━━━━━━━━━━━━━━━━━━\u001b[0m \u001b[32m14.0/14.0 MB\u001b[0m \u001b[31m73.0 MB/s\u001b[0m eta \u001b[36m0:00:00\u001b[0m\r\n",
      "\u001b[?25hInstalling collected packages: pygame\r\n",
      "Successfully installed pygame-2.5.2\r\n"
     ]
    }
   ],
   "source": [
    "!pip install gymnasium\n",
    "# !pip install torchviz\n",
    "!pip install pygame"
   ]
  },
  {
   "cell_type": "code",
   "execution_count": 2,
   "id": "5a625d76",
   "metadata": {
    "execution": {
     "iopub.execute_input": "2024-03-26T19:09:44.691704Z",
     "iopub.status.busy": "2024-03-26T19:09:44.691095Z",
     "iopub.status.idle": "2024-03-26T19:09:44.695010Z",
     "shell.execute_reply": "2024-03-26T19:09:44.694218Z"
    },
    "id": "tKRqnPNDNDGE",
    "outputId": "c94ff9cb-649c-4e0b-dd86-2e58d5e4042e",
    "papermill": {
     "duration": 0.016048,
     "end_time": "2024-03-26T19:09:44.696946",
     "exception": false,
     "start_time": "2024-03-26T19:09:44.680898",
     "status": "completed"
    },
    "tags": []
   },
   "outputs": [],
   "source": [
    "# %matplotlib inline\n",
    "# %load_ext tensorboard\n",
    "# %tensorboard --logdir logs"
   ]
  },
  {
   "cell_type": "code",
   "execution_count": 3,
   "id": "694f3509",
   "metadata": {
    "execution": {
     "iopub.execute_input": "2024-03-26T19:09:44.716176Z",
     "iopub.status.busy": "2024-03-26T19:09:44.715678Z",
     "iopub.status.idle": "2024-03-26T19:10:02.615314Z",
     "shell.execute_reply": "2024-03-26T19:10:02.614337Z"
    },
    "id": "XMRk02swNI4m",
    "papermill": {
     "duration": 17.91177,
     "end_time": "2024-03-26T19:10:02.617726",
     "exception": false,
     "start_time": "2024-03-26T19:09:44.705956",
     "status": "completed"
    },
    "tags": []
   },
   "outputs": [
    {
     "name": "stderr",
     "output_type": "stream",
     "text": [
      "2024-03-26 19:09:53.661580: E external/local_xla/xla/stream_executor/cuda/cuda_dnn.cc:9261] Unable to register cuDNN factory: Attempting to register factory for plugin cuDNN when one has already been registered\n",
      "2024-03-26 19:09:53.661674: E external/local_xla/xla/stream_executor/cuda/cuda_fft.cc:607] Unable to register cuFFT factory: Attempting to register factory for plugin cuFFT when one has already been registered\n",
      "2024-03-26 19:09:53.796003: E external/local_xla/xla/stream_executor/cuda/cuda_blas.cc:1515] Unable to register cuBLAS factory: Attempting to register factory for plugin cuBLAS when one has already been registered\n"
     ]
    }
   ],
   "source": [
    "from itertools import count\n",
    "import random\n",
    "import gymnasium as gym\n",
    "import matplotlib\n",
    "import matplotlib.pyplot as plt\n",
    "import torch\n",
    "from torchvision import transforms\n",
    "import torch.nn as nn\n",
    "import torch.optim as optim\n",
    "import torch.nn.functional as F\n",
    "from tqdm.notebook import tqdm\n",
    "from torch.utils.tensorboard import SummaryWriter\n",
    "import math\n",
    "from collections import deque, namedtuple\n",
    "import random\n",
    "from torchvision.models import resnet18\n",
    "import numpy as np"
   ]
  },
  {
   "cell_type": "code",
   "execution_count": 4,
   "id": "f76d0860",
   "metadata": {
    "execution": {
     "iopub.execute_input": "2024-03-26T19:10:02.638516Z",
     "iopub.status.busy": "2024-03-26T19:10:02.637509Z",
     "iopub.status.idle": "2024-03-26T19:10:02.642652Z",
     "shell.execute_reply": "2024-03-26T19:10:02.641817Z"
    },
    "id": "oMybM1EvNJmm",
    "papermill": {
     "duration": 0.017046,
     "end_time": "2024-03-26T19:10:02.644491",
     "exception": false,
     "start_time": "2024-03-26T19:10:02.627445",
     "status": "completed"
    },
    "tags": []
   },
   "outputs": [],
   "source": [
    "def render_environment(env):\n",
    "    plt.figure(figsize=(6, 4))\n",
    "    plt.imshow(env.render())\n",
    "    plt.axis('off')\n",
    "    plt.show()"
   ]
  },
  {
   "cell_type": "code",
   "execution_count": 5,
   "id": "1d075cd2",
   "metadata": {
    "execution": {
     "iopub.execute_input": "2024-03-26T19:10:02.663816Z",
     "iopub.status.busy": "2024-03-26T19:10:02.663546Z",
     "iopub.status.idle": "2024-03-26T19:10:02.731087Z",
     "shell.execute_reply": "2024-03-26T19:10:02.730239Z"
    },
    "id": "aWwgqGkxNLec",
    "outputId": "2399ddc0-9901-4583-826f-1484d4f4c786",
    "papermill": {
     "duration": 0.079453,
     "end_time": "2024-03-26T19:10:02.733067",
     "exception": false,
     "start_time": "2024-03-26T19:10:02.653614",
     "status": "completed"
    },
    "tags": []
   },
   "outputs": [
    {
     "data": {
      "text/plain": [
       "<contextlib.ExitStack at 0x798d1af1b880>"
      ]
     },
     "execution_count": 5,
     "metadata": {},
     "output_type": "execute_result"
    }
   ],
   "source": [
    "env = gym.make(\"CartPole-v1\",render_mode=\"rgb_array\")\n",
    "writer = SummaryWriter(\"logs\")\n",
    "device = torch.device(\n",
    "    \"mps\"\n",
    "    if torch.backends.mps.is_available()\n",
    "    else (\"cuda\" if torch.cuda.is_available() else \"cpu\")\n",
    ")\n",
    "is_ipython = 'inline' in matplotlib.get_backend()\n",
    "if is_ipython:\n",
    "    from IPython import display\n",
    "\n",
    "plt.ion()"
   ]
  },
  {
   "cell_type": "code",
   "execution_count": 6,
   "id": "cf2a31b8",
   "metadata": {
    "execution": {
     "iopub.execute_input": "2024-03-26T19:10:02.753488Z",
     "iopub.status.busy": "2024-03-26T19:10:02.753219Z",
     "iopub.status.idle": "2024-03-26T19:10:02.757855Z",
     "shell.execute_reply": "2024-03-26T19:10:02.757067Z"
    },
    "id": "K56j-MW9NN8-",
    "papermill": {
     "duration": 0.016355,
     "end_time": "2024-03-26T19:10:02.759676",
     "exception": false,
     "start_time": "2024-03-26T19:10:02.743321",
     "status": "completed"
    },
    "tags": []
   },
   "outputs": [],
   "source": [
    "#HYPER-PARAMETERS\n",
    "# BATCH_SIZE is the number of transitions sampled from the replay buffer\n",
    "# GAMMA is the discount factor as mentioned in the previous section\n",
    "# EPS_START is the starting value of epsilon\n",
    "# EPS_END is the final value of epsilon\n",
    "# EPS_DECAY controls the rate of exponential decay of epsilon, higher means a slower decay\n",
    "# TAU is the update rate of the target network\n",
    "# LR is the learning rate of the ``AdamW`` optimizer\n",
    "\n",
    "BATCH_SIZE = 512\n",
    "GAMMA = 0.4\n",
    "EPS_START = 0.9\n",
    "EPS_END = 0.05\n",
    "EPS_DECAY = 1000\n",
    "TAU = 0.005\n",
    "LR = 1e-4\n",
    "REPLAY_BUFFER_SIZE = 10000"
   ]
  },
  {
   "cell_type": "code",
   "execution_count": 7,
   "id": "6f38db3d",
   "metadata": {
    "execution": {
     "iopub.execute_input": "2024-03-26T19:10:02.778944Z",
     "iopub.status.busy": "2024-03-26T19:10:02.778678Z",
     "iopub.status.idle": "2024-03-26T19:10:02.784940Z",
     "shell.execute_reply": "2024-03-26T19:10:02.784169Z"
    },
    "id": "U7dhHaTkNP5L",
    "papermill": {
     "duration": 0.018015,
     "end_time": "2024-03-26T19:10:02.786836",
     "exception": false,
     "start_time": "2024-03-26T19:10:02.768821",
     "status": "completed"
    },
    "tags": []
   },
   "outputs": [],
   "source": [
    "Transition = namedtuple(\"Transition\", (\"state\", \"action\", \"next_state\", \"reward\"))\n",
    "class ReplayBuffer(object):\n",
    "    def __init__(self, capacity):\n",
    "        self.memory = deque([], maxlen=capacity)\n",
    "\n",
    "    def push(self, *args):\n",
    "        \"\"\"Save a transition\"\"\"\n",
    "        self.memory.append(Transition(*args))\n",
    "\n",
    "    def sample(self, batch_size):\n",
    "        return random.sample(self.memory, batch_size)\n",
    "\n",
    "    def __len__(self):\n",
    "        return len(self.memory)"
   ]
  },
  {
   "cell_type": "code",
   "execution_count": 8,
   "id": "d73c82ff",
   "metadata": {
    "execution": {
     "iopub.execute_input": "2024-03-26T19:10:02.806271Z",
     "iopub.status.busy": "2024-03-26T19:10:02.805981Z",
     "iopub.status.idle": "2024-03-26T19:10:03.495082Z",
     "shell.execute_reply": "2024-03-26T19:10:03.492641Z"
    },
    "id": "jTZ2MCvy8Gls",
    "outputId": "2b3c57a1-fd52-4e17-9f75-dd32fd883cae",
    "papermill": {
     "duration": 0.701536,
     "end_time": "2024-03-26T19:10:03.497642",
     "exception": false,
     "start_time": "2024-03-26T19:10:02.796106",
     "status": "completed"
    },
    "tags": []
   },
   "outputs": [
    {
     "name": "stderr",
     "output_type": "stream",
     "text": [
      "/opt/conda/lib/python3.10/site-packages/torchvision/models/_utils.py:208: UserWarning: The parameter 'pretrained' is deprecated since 0.13 and may be removed in the future, please use 'weights' instead.\n",
      "  warnings.warn(\n",
      "/opt/conda/lib/python3.10/site-packages/torchvision/models/_utils.py:223: UserWarning: Arguments other than a weight enum or `None` for 'weights' are deprecated since 0.13 and may be removed in the future. The current behavior is equivalent to passing `weights=ResNet18_Weights.IMAGENET1K_V1`. You can also use `weights=ResNet18_Weights.DEFAULT` to get the most up-to-date weights.\n",
      "  warnings.warn(msg)\n",
      "Downloading: \"https://download.pytorch.org/models/resnet18-f37072fd.pth\" to /root/.cache/torch/hub/checkpoints/resnet18-f37072fd.pth\n",
      "100%|██████████| 44.7M/44.7M [00:00<00:00, 147MB/s]\n"
     ]
    }
   ],
   "source": [
    "resnet_model = resnet18(pretrained=True)"
   ]
  },
  {
   "cell_type": "code",
   "execution_count": 9,
   "id": "e7bbf23c",
   "metadata": {
    "execution": {
     "iopub.execute_input": "2024-03-26T19:10:03.526538Z",
     "iopub.status.busy": "2024-03-26T19:10:03.526106Z",
     "iopub.status.idle": "2024-03-26T19:10:03.532582Z",
     "shell.execute_reply": "2024-03-26T19:10:03.531695Z"
    },
    "id": "9V3Mu3Xo8tcZ",
    "papermill": {
     "duration": 0.023548,
     "end_time": "2024-03-26T19:10:03.534519",
     "exception": false,
     "start_time": "2024-03-26T19:10:03.510971",
     "status": "completed"
    },
    "tags": []
   },
   "outputs": [],
   "source": [
    "class ResNetFeatureExtractor(nn.Module):\n",
    "    def __init__(self):\n",
    "        super(ResNetFeatureExtractor, self).__init__()\n",
    "        self.features = nn.Sequential(*list(resnet_model.children())[:-1])\n",
    "        for param in self.features.parameters():\n",
    "            param.requires_grad = False\n",
    "    def forward(self, x):\n",
    "        x = self.features(x)\n",
    "        return x"
   ]
  },
  {
   "cell_type": "code",
   "execution_count": 10,
   "id": "2157626d",
   "metadata": {
    "execution": {
     "iopub.execute_input": "2024-03-26T19:10:03.555676Z",
     "iopub.status.busy": "2024-03-26T19:10:03.555396Z",
     "iopub.status.idle": "2024-03-26T19:10:03.561816Z",
     "shell.execute_reply": "2024-03-26T19:10:03.561042Z"
    },
    "id": "dUbNl5CpNR7h",
    "papermill": {
     "duration": 0.019075,
     "end_time": "2024-03-26T19:10:03.563664",
     "exception": false,
     "start_time": "2024-03-26T19:10:03.544589",
     "status": "completed"
    },
    "tags": []
   },
   "outputs": [],
   "source": [
    "class DQN(nn.Module):\n",
    "    def __init__(self, n_observations,n_actions):\n",
    "        super(DQN, self).__init__()\n",
    "        self.cnn = ResNetFeatureExtractor()\n",
    "        self.layer1 = nn.Linear(512, 128)\n",
    "        self.layer2 = nn.Linear(128, 56)\n",
    "        self.layer3 = nn.Linear(56, n_actions)\n",
    "\n",
    "    def forward(self, x):\n",
    "        x = self.cnn(x)\n",
    "        x = x.view(x.size(0), -1)\n",
    "        x = F.relu(self.layer1(x))\n",
    "        x = F.relu(self.layer2(x))\n",
    "        return self.layer3(x)"
   ]
  },
  {
   "cell_type": "code",
   "execution_count": 11,
   "id": "c559249f",
   "metadata": {
    "execution": {
     "iopub.execute_input": "2024-03-26T19:10:03.584836Z",
     "iopub.status.busy": "2024-03-26T19:10:03.584544Z",
     "iopub.status.idle": "2024-03-26T19:10:04.094933Z",
     "shell.execute_reply": "2024-03-26T19:10:04.093757Z"
    },
    "id": "uMPCIu49k9hp",
    "outputId": "6bb34d16-2425-4e14-8cc4-e1d43cbaf0e7",
    "papermill": {
     "duration": 0.524636,
     "end_time": "2024-03-26T19:10:04.098257",
     "exception": false,
     "start_time": "2024-03-26T19:10:03.573621",
     "status": "completed"
    },
    "tags": []
   },
   "outputs": [
    {
     "data": {
      "image/png": "[encoded data removed]",
      "text/plain": [
       "<Figure size 600x400 with 1 Axes>"
      ]
     },
     "metadata": {},
     "output_type": "display_data"
    }
   ],
   "source": [
    "n_actions = env.action_space.n\n",
    "state, info = env.reset(seed=42)\n",
    "n_observations = len(state)\n",
    "render_environment(env)"
   ]
  },
  {
   "cell_type": "code",
   "execution_count": 12,
   "id": "30bd0f0b",
   "metadata": {
    "execution": {
     "iopub.execute_input": "2024-03-26T19:10:04.144269Z",
     "iopub.status.busy": "2024-03-26T19:10:04.143683Z",
     "iopub.status.idle": "2024-03-26T19:10:04.151207Z",
     "shell.execute_reply": "2024-03-26T19:10:04.150445Z"
    },
    "id": "IbIFucXE98JB",
    "papermill": {
     "duration": 0.032752,
     "end_time": "2024-03-26T19:10:04.152958",
     "exception": false,
     "start_time": "2024-03-26T19:10:04.120206",
     "status": "completed"
    },
    "tags": []
   },
   "outputs": [],
   "source": [
    "preprocess = transforms.Compose([\n",
    "  transforms.ToPILImage(),\n",
    "  transforms.CenterCrop(448), \n",
    "  transforms.Resize((224, 224)),\n",
    "  transforms.ToTensor(),\n",
    "])"
   ]
  },
  {
   "cell_type": "code",
   "execution_count": 13,
   "id": "aeb7a306",
   "metadata": {
    "execution": {
     "iopub.execute_input": "2024-03-26T19:10:04.174542Z",
     "iopub.status.busy": "2024-03-26T19:10:04.174263Z",
     "iopub.status.idle": "2024-03-26T19:10:04.180532Z",
     "shell.execute_reply": "2024-03-26T19:10:04.179777Z"
    },
    "id": "xKTGHK5Zh79z",
    "papermill": {
     "duration": 0.019179,
     "end_time": "2024-03-26T19:10:04.182400",
     "exception": false,
     "start_time": "2024-03-26T19:10:04.163221",
     "status": "completed"
    },
    "tags": []
   },
   "outputs": [],
   "source": [
    "def select_action(state,policy_net):\n",
    "    global steps_done\n",
    "    sample = random.random()\n",
    "    eps_threshold = EPS_END + (EPS_START - EPS_END) * math.exp(\n",
    "        -1.0 * steps_done / EPS_DECAY\n",
    "    )\n",
    "    steps_done += 1\n",
    "    if sample > eps_threshold:\n",
    "        with torch.no_grad():\n",
    "            # t.max(1) will return the largest column value of each row.\n",
    "            # second column on max result is index of where max element was\n",
    "            # found, so we pick action with the larger expected reward.\n",
    "            return policy_net(state).max(1).indices.view(1, 1)\n",
    "    else:\n",
    "        return torch.tensor(\n",
    "            [[env.action_space.sample()]], device=device, dtype=torch.long\n",
    "        )"
   ]
  },
  {
   "cell_type": "code",
   "execution_count": 14,
   "id": "273ab451",
   "metadata": {
    "execution": {
     "iopub.execute_input": "2024-03-26T19:10:04.203829Z",
     "iopub.status.busy": "2024-03-26T19:10:04.203345Z",
     "iopub.status.idle": "2024-03-26T19:10:04.208205Z",
     "shell.execute_reply": "2024-03-26T19:10:04.207493Z"
    },
    "id": "NWUQMDAemDzH",
    "papermill": {
     "duration": 0.017451,
     "end_time": "2024-03-26T19:10:04.209972",
     "exception": false,
     "start_time": "2024-03-26T19:10:04.192521",
     "status": "completed"
    },
    "tags": []
   },
   "outputs": [],
   "source": [
    "steps_done = 0"
   ]
  },
  {
   "cell_type": "code",
   "execution_count": 15,
   "id": "7df611a4",
   "metadata": {
    "execution": {
     "iopub.execute_input": "2024-03-26T19:10:04.231657Z",
     "iopub.status.busy": "2024-03-26T19:10:04.230974Z",
     "iopub.status.idle": "2024-03-26T19:10:04.251577Z",
     "shell.execute_reply": "2024-03-26T19:10:04.250676Z"
    },
    "id": "ZZYD58T5-CjZ",
    "papermill": {
     "duration": 0.033446,
     "end_time": "2024-03-26T19:10:04.253517",
     "exception": false,
     "start_time": "2024-03-26T19:10:04.220071",
     "status": "completed"
    },
    "tags": []
   },
   "outputs": [],
   "source": [
    "def single_run(BATCH_SIZE, GAMMA, EPS_START, EPS_END, EPS_DECAY, TAU, LR,REPLAY_BUFFER_SIZE,EXP_NAME):\n",
    "  writer = SummaryWriter(f'logs/{EXP_NAME}/CNN_BASED/RESNET/BATCH_SIZE-{BATCH_SIZE}-GAMMA-{GAMMA}-EPS_START-{EPS_START}-EPS_END-{EPS_END}-EPS_DECAY-{EPS_DECAY}-TAU-{TAU}-LR-{LR}-REPLAY_BUFFEER_SIZE-{REPLAY_BUFFER_SIZE}')\n",
    "  policy_net = DQN(n_observations, n_actions).to(device)\n",
    "  target_net = DQN(n_observations, n_actions).to(device)\n",
    "  target_net.load_state_dict(policy_net.state_dict())\n",
    "  memory = ReplayBuffer(REPLAY_BUFFER_SIZE)\n",
    "  optimizer = optim.AdamW(policy_net.parameters(), lr=LR, amsgrad=True)\n",
    "  steps_done = 0\n",
    "  episode_durations = []\n",
    "  episode_rewards = []\n",
    "  epoch_q_values = []\n",
    "  if torch.cuda.is_available() or torch.backends.mps.is_available():\n",
    "      num_episodes = 500\n",
    "  else:\n",
    "      num_episodes = 50\n",
    "\n",
    "  for i_episode in tqdm(range(num_episodes)):\n",
    "      # Initialize the environment and get its state\n",
    "      state, info = env.reset()\n",
    "      image = env.render()\n",
    "      image = preprocess(image)\n",
    "      # print(image.shape)\n",
    "      state = torch.tensor(image, dtype=torch.float32, device=device).unsqueeze(0)\n",
    "      # print(state.shape)\n",
    "      episode_reward = 0\n",
    "      epoch_q_value = 0\n",
    "      for t in count():\n",
    "          action = select_action(state,policy_net)\n",
    "          observation, reward, terminated, truncated, _ = env.step(action.item())\n",
    "          reward = torch.tensor([reward], device=device)\n",
    "          episode_reward+=reward.item()\n",
    "\n",
    "          q_values = policy_net(state)\n",
    "          q_value = q_values[0, action].item()\n",
    "          epoch_q_value += q_value\n",
    "\n",
    "\n",
    "          done = terminated or truncated\n",
    "\n",
    "          if terminated:\n",
    "              next_state = None\n",
    "          else:\n",
    "              image = env.render()\n",
    "              image = preprocess(image)\n",
    "              next_state = torch.tensor(image, dtype=torch.float32, device=device).unsqueeze(0)\n",
    "\n",
    "          memory.push(state, action, next_state, reward)\n",
    "          state = next_state\n",
    "\n",
    "          # Perform one step of the optimization (on the policy network)\n",
    "          if len(memory) >= BATCH_SIZE:\n",
    "            transitions = memory.sample(BATCH_SIZE)\n",
    "            batch = Transition(*zip(*transitions))\n",
    "            non_final_mask = torch.tensor(\n",
    "                tuple(map(lambda s: s is not None, batch.next_state)),\n",
    "                device=device,\n",
    "                dtype=torch.bool,\n",
    "            )\n",
    "            non_final_next_states = torch.cat([s for s in batch.next_state if s is not None])\n",
    "            state_batch = torch.cat(batch.state)\n",
    "            action_batch = torch.cat(batch.action)\n",
    "            reward_batch = torch.cat(batch.reward)\n",
    "            state_action_values = policy_net(state_batch).gather(1, action_batch)\n",
    "            next_state_values = torch.zeros(BATCH_SIZE, device=device)\n",
    "            with torch.no_grad():\n",
    "                next_state_values[non_final_mask] = (\n",
    "                    target_net(non_final_next_states).max(1).values\n",
    "                )\n",
    "            expected_state_action_values = (next_state_values * GAMMA) + reward_batch\n",
    "            criterion = nn.SmoothL1Loss()\n",
    "            loss = criterion(state_action_values, expected_state_action_values.unsqueeze(1))\n",
    "            writer.add_scalar(\"Loss\", loss.item(), i_episode)\n",
    "            optimizer.zero_grad()\n",
    "            loss.backward()\n",
    "            torch.nn.utils.clip_grad_value_(policy_net.parameters(), 100)\n",
    "            optimizer.step()\n",
    "\n",
    "          target_net_state_dict = target_net.state_dict()\n",
    "          policy_net_state_dict = policy_net.state_dict()\n",
    "          for key in policy_net_state_dict:\n",
    "              target_net_state_dict[key] = policy_net_state_dict[key] * TAU + target_net_state_dict[key] * (1 - TAU)\n",
    "          target_net.load_state_dict(target_net_state_dict)\n",
    "          if done:\n",
    "              writer.add_scalar(\"Average Reward\",episode_reward,i_episode)\n",
    "              average_q_value = epoch_q_value / (t + 1)\n",
    "              epoch_q_values.append(average_q_value)\n",
    "              writer.add_scalar(\"Average Q-value\", average_q_value, i_episode)\n",
    "              episode_durations.append(t + 1)\n",
    "              break\n",
    "  writer.add_hparams({'LR': LR, 'BATCH_SIZE': BATCH_SIZE, 'GAMMA':GAMMA,'EPS_START':EPS_START,'EPS_END':EPS_END,'TAU':TAU,'REPLAY_BUFFER_SIZE':REPLAY_BUFFER_SIZE}, {'hparam/loss': loss.item(), 'hparam/reward': reward,'average_q_value':average_q_value})\n",
    "  torch.save(policy_net.state_dict(), 'dqn_cnn_model.pth')"
   ]
  },
  {
   "cell_type": "code",
   "execution_count": 16,
   "id": "e45286d9",
   "metadata": {
    "execution": {
     "iopub.execute_input": "2024-03-26T19:10:04.275510Z",
     "iopub.status.busy": "2024-03-26T19:10:04.274781Z",
     "iopub.status.idle": "2024-03-26T19:10:04.279066Z",
     "shell.execute_reply": "2024-03-26T19:10:04.278183Z"
    },
    "id": "hA6xvbYT-L4s",
    "papermill": {
     "duration": 0.017148,
     "end_time": "2024-03-26T19:10:04.280945",
     "exception": false,
     "start_time": "2024-03-26T19:10:04.263797",
     "status": "completed"
    },
    "tags": []
   },
   "outputs": [],
   "source": [
    "device = torch.device(\"cuda\" if torch.cuda.is_available() else \"cpu\")"
   ]
  },
  {
   "cell_type": "code",
   "execution_count": 17,
   "id": "9b7e035b",
   "metadata": {
    "execution": {
     "iopub.execute_input": "2024-03-26T19:10:04.302892Z",
     "iopub.status.busy": "2024-03-26T19:10:04.302627Z",
     "iopub.status.idle": "2024-03-26T20:14:36.235531Z",
     "shell.execute_reply": "2024-03-26T20:14:36.234699Z"
    },
    "id": "UXSQDO3-kiLh",
    "outputId": "113fa012-8bca-4b2a-e3d2-b457df895f73",
    "papermill": {
     "duration": 3871.947776,
     "end_time": "2024-03-26T20:14:36.239272",
     "exception": false,
     "start_time": "2024-03-26T19:10:04.291496",
     "status": "completed"
    },
    "tags": []
   },
   "outputs": [
    {
     "data": {
      "application/vnd.jupyter.widget-view+json": {
       "model_id": "b839e5622a414144a209db171a040bd7",
       "version_major": 2,
       "version_minor": 0
      },
      "text/plain": [
       "  0%|          | 0/500 [00:00<?, ?it/s]"
      ]
     },
     "metadata": {},
     "output_type": "display_data"
    },
    {
     "name": "stderr",
     "output_type": "stream",
     "text": [
      "/tmp/ipykernel_26/362562523.py:23: UserWarning: To copy construct from a tensor, it is recommended to use sourceTensor.clone().detach() or sourceTensor.clone().detach().requires_grad_(True), rather than torch.tensor(sourceTensor).\n",
      "  state = torch.tensor(image, dtype=torch.float32, device=device).unsqueeze(0)\n",
      "/tmp/ipykernel_26/362562523.py:45: UserWarning: To copy construct from a tensor, it is recommended to use sourceTensor.clone().detach() or sourceTensor.clone().detach().requires_grad_(True), rather than torch.tensor(sourceTensor).\n",
      "  next_state = torch.tensor(image, dtype=torch.float32, device=device).unsqueeze(0)\n"
     ]
    }
   ],
   "source": [
    "REPLAY_BUFFER_SIZE = 100000\n",
    "BATCH_SIZE = 512\n",
    "GAMMA = 0.4\n",
    "EPS_START = 0.9\n",
    "EPS_END = 0.05\n",
    "EPS_DECAY = 1000\n",
    "TAU = 0.005\n",
    "LR = 1e-4\n",
    "single_run(BATCH_SIZE, GAMMA, EPS_START, EPS_END, EPS_DECAY, TAU, LR,REPLAY_BUFFER_SIZE,'REPLAY_BUFFER')"
   ]
  },
  {
   "cell_type": "code",
   "execution_count": 18,
   "id": "7965973e",
   "metadata": {
    "execution": {
     "iopub.execute_input": "2024-03-26T20:14:36.264112Z",
     "iopub.status.busy": "2024-03-26T20:14:36.263398Z",
     "iopub.status.idle": "2024-03-26T20:14:36.271383Z",
     "shell.execute_reply": "2024-03-26T20:14:36.270477Z"
    },
    "id": "xw9ve4_2pafw",
    "papermill": {
     "duration": 0.022649,
     "end_time": "2024-03-26T20:14:36.273188",
     "exception": false,
     "start_time": "2024-03-26T20:14:36.250539",
     "status": "completed"
    },
    "tags": []
   },
   "outputs": [],
   "source": [
    "# from tensorboard import notebook\n",
    "# notebook.list()\n",
    "# notebook.display(port=6006, height=500)"
   ]
  },
  {
   "cell_type": "code",
   "execution_count": 19,
   "id": "54221d51",
   "metadata": {
    "execution": {
     "iopub.execute_input": "2024-03-26T20:14:36.296487Z",
     "iopub.status.busy": "2024-03-26T20:14:36.295832Z",
     "iopub.status.idle": "2024-03-26T20:14:36.300090Z",
     "shell.execute_reply": "2024-03-26T20:14:36.299184Z"
    },
    "papermill": {
     "duration": 0.018136,
     "end_time": "2024-03-26T20:14:36.302121",
     "exception": false,
     "start_time": "2024-03-26T20:14:36.283985",
     "status": "completed"
    },
    "tags": []
   },
   "outputs": [],
   "source": [
    "# policy_net = DQN(n_observations, n_actions).to(device)\n",
    "# policy_net.load_state_dict(torch.load('dqn_cnn_model.pth'))\n",
    "# policy_net.eval() "
   ]
  },
  {
   "cell_type": "code",
   "execution_count": 20,
   "id": "7d9d123e",
   "metadata": {
    "execution": {
     "iopub.execute_input": "2024-03-26T20:14:36.324797Z",
     "iopub.status.busy": "2024-03-26T20:14:36.324539Z",
     "iopub.status.idle": "2024-03-26T20:14:36.328408Z",
     "shell.execute_reply": "2024-03-26T20:14:36.327516Z"
    },
    "papermill": {
     "duration": 0.017421,
     "end_time": "2024-03-26T20:14:36.330253",
     "exception": false,
     "start_time": "2024-03-26T20:14:36.312832",
     "status": "completed"
    },
    "tags": []
   },
   "outputs": [],
   "source": [
    "# !pip install imageio\n",
    "# import imageio\n",
    "# from IPython.display import Video"
   ]
  },
  {
   "cell_type": "code",
   "execution_count": 21,
   "id": "1c05d0cf",
   "metadata": {
    "execution": {
     "iopub.execute_input": "2024-03-26T20:14:36.353587Z",
     "iopub.status.busy": "2024-03-26T20:14:36.353281Z",
     "iopub.status.idle": "2024-03-26T20:14:36.357648Z",
     "shell.execute_reply": "2024-03-26T20:14:36.356784Z"
    },
    "papermill": {
     "duration": 0.01835,
     "end_time": "2024-03-26T20:14:36.359664",
     "exception": false,
     "start_time": "2024-03-26T20:14:36.341314",
     "status": "completed"
    },
    "tags": []
   },
   "outputs": [],
   "source": [
    "# state,_ = env.reset()\n",
    "# image = env.render()\n",
    "# image = preprocess(image)\n",
    "# state = torch.tensor(image, dtype=torch.float32, device=device).unsqueeze(0)\n",
    "\n",
    "# done = False\n",
    "# frames = []\n",
    "# while not done:\n",
    "#   frames.append(env.render())\n",
    "#   with torch.no_grad():\n",
    "#         image = env.render()\n",
    "#         image = preprocess(image)\n",
    "#         state = torch.tensor(image, dtype=torch.float32, device=device).unsqueeze(0)\n",
    "#         action = policy_net(state).argmax(dim=1).item()\n",
    "#   state, reward, terminated, truncated,_ = env.step(action)\n",
    "#   done = terminated or truncated\n",
    "# imageio.mimsave('output.mp4', frames)\n",
    "# env.close()\n",
    "\n",
    "# Video(\"output.mp4\", embed=True)"
   ]
  }
 ],
 "metadata": {
  "accelerator": "GPU",
  "colab": {
   "gpuType": "T4",
   "provenance": []
  },
  "kaggle": {
   "accelerator": "gpu",
   "dataSources": [],
   "dockerImageVersionId": 30674,
   "isGpuEnabled": true,
   "isInternetEnabled": true,
   "language": "python",
   "sourceType": "notebook"
  },
  "kernelspec": {
   "display_name": "Python 3",
   "language": "python",
   "name": "python3"
  },
  "language_info": {
   "codemirror_mode": {
    "name": "ipython",
    "version": 3
   },
   "file_extension": ".py",
   "mimetype": "text/x-python",
   "name": "python",
   "nbconvert_exporter": "python",
   "pygments_lexer": "ipython3",
   "version": "3.10.13"
  },
  "papermill": {
   "default_parameters": {},
   "duration": 3924.849976,
   "end_time": "2024-03-26T20:14:40.328281",
   "environment_variables": {},
   "exception": null,
   "input_path": "__notebook__.ipynb",
   "output_path": "__notebook__.ipynb",
   "parameters": {},
   "start_time": "2024-03-26T19:09:15.478305",
   "version": "2.5.0"
  },
  "widgets": {
   "application/vnd.jupyter.widget-state+json": {
    "state": {
     "105d20bd2a024568b6326ba6ed64fb18": {
      "model_module": "@jupyter-widgets/controls",
      "model_module_version": "1.5.0",
      "model_name": "ProgressStyleModel",
      "state": {
       "_model_module": "@jupyter-widgets/controls",
       "_model_module_version": "1.5.0",
       "_model_name": "ProgressStyleModel",
       "_view_count": null,
       "_view_module": "@jupyter-widgets/base",
       "_view_module_version": "1.2.0",
       "_view_name": "StyleView",
       "bar_color": null,
       "description_width": ""
      }
     },
     "1d18a487ce964bd88a1f0abb0cd848d3": {
      "model_module": "@jupyter-widgets/controls",
      "model_module_version": "1.5.0",
      "model_name": "HTMLModel",
      "state": {
       "_dom_classes": [],
       "_model_module": "@jupyter-widgets/controls",
       "_model_module_version": "1.5.0",
       "_model_name": "HTMLModel",
       "_view_count": null,
       "_view_module": "@jupyter-widgets/controls",
       "_view_module_version": "1.5.0",
       "_view_name": "HTMLView",
       "description": "",
       "description_tooltip": null,
       "layout": "IPY_MODEL_a97f304ebb174b2491a1586aaceba250",
       "placeholder": "​",
       "style": "IPY_MODEL_7cc3c5c9dc234eb7803edcb573741f04",
       "value": " 500/500 [1:04:31&lt;00:00,  5.84s/it]"
      }
     },
     "2dc030f9b4bd43c99c3cf0bcde2cf87f": {
      "model_module": "@jupyter-widgets/controls",
      "model_module_version": "1.5.0",
      "model_name": "HTMLModel",
      "state": {
       "_dom_classes": [],
       "_model_module": "@jupyter-widgets/controls",
       "_model_module_version": "1.5.0",
       "_model_name": "HTMLModel",
       "_view_count": null,
       "_view_module": "@jupyter-widgets/controls",
       "_view_module_version": "1.5.0",
       "_view_name": "HTMLView",
       "description": "",
       "description_tooltip": null,
       "layout": "IPY_MODEL_738c05ae494744c6b29b473583f77b04",
       "placeholder": "​",
       "style": "IPY_MODEL_6e40fb3a09924703ac36a4e3893b67d0",
       "value": "100%"
      }
     },
     "6e40fb3a09924703ac36a4e3893b67d0": {
      "model_module": "@jupyter-widgets/controls",
      "model_module_version": "1.5.0",
      "model_name": "DescriptionStyleModel",
      "state": {
       "_model_module": "@jupyter-widgets/controls",
       "_model_module_version": "1.5.0",
       "_model_name": "DescriptionStyleModel",
       "_view_count": null,
       "_view_module": "@jupyter-widgets/base",
       "_view_module_version": "1.2.0",
       "_view_name": "StyleView",
       "description_width": ""
      }
     },
     "738c05ae494744c6b29b473583f77b04": {
      "model_module": "@jupyter-widgets/base",
      "model_module_version": "1.2.0",
      "model_name": "LayoutModel",
      "state": {
       "_model_module": "@jupyter-widgets/base",
       "_model_module_version": "1.2.0",
       "_model_name": "LayoutModel",
       "_view_count": null,
       "_view_module": "@jupyter-widgets/base",
       "_view_module_version": "1.2.0",
       "_view_name": "LayoutView",
       "align_content": null,
       "align_items": null,
       "align_self": null,
       "border": null,
       "bottom": null,
       "display": null,
       "flex": null,
       "flex_flow": null,
       "grid_area": null,
       "grid_auto_columns": null,
       "grid_auto_flow": null,
       "grid_auto_rows": null,
       "grid_column": null,
       "grid_gap": null,
       "grid_row": null,
       "grid_template_areas": null,
       "grid_template_columns": null,
       "grid_template_rows": null,
       "height": null,
       "justify_content": null,
       "justify_items": null,
       "left": null,
       "margin": null,
       "max_height": null,
       "max_width": null,
       "min_height": null,
       "min_width": null,
       "object_fit": null,
       "object_position": null,
       "order": null,
       "overflow": null,
       "overflow_x": null,
       "overflow_y": null,
       "padding": null,
       "right": null,
       "top": null,
       "visibility": null,
       "width": null
      }
     },
     "7cc3c5c9dc234eb7803edcb573741f04": {
      "model_module": "@jupyter-widgets/controls",
      "model_module_version": "1.5.0",
      "model_name": "DescriptionStyleModel",
      "state": {
       "_model_module": "@jupyter-widgets/controls",
       "_model_module_version": "1.5.0",
       "_model_name": "DescriptionStyleModel",
       "_view_count": null,
       "_view_module": "@jupyter-widgets/base",
       "_view_module_version": "1.2.0",
       "_view_name": "StyleView",
       "description_width": ""
      }
     },
     "9e38e4dc12c648d5b9bf190f674e1f30": {
      "model_module": "@jupyter-widgets/base",
      "model_module_version": "1.2.0",
      "model_name": "LayoutModel",
      "state": {
       "_model_module": "@jupyter-widgets/base",
       "_model_module_version": "1.2.0",
       "_model_name": "LayoutModel",
       "_view_count": null,
       "_view_module": "@jupyter-widgets/base",
       "_view_module_version": "1.2.0",
       "_view_name": "LayoutView",
       "align_content": null,
       "align_items": null,
       "align_self": null,
       "border": null,
       "bottom": null,
       "display": null,
       "flex": null,
       "flex_flow": null,
       "grid_area": null,
       "grid_auto_columns": null,
       "grid_auto_flow": null,
       "grid_auto_rows": null,
       "grid_column": null,
       "grid_gap": null,
       "grid_row": null,
       "grid_template_areas": null,
       "grid_template_columns": null,
       "grid_template_rows": null,
       "height": null,
       "justify_content": null,
       "justify_items": null,
       "left": null,
       "margin": null,
       "max_height": null,
       "max_width": null,
       "min_height": null,
       "min_width": null,
       "object_fit": null,
       "object_position": null,
       "order": null,
       "overflow": null,
       "overflow_x": null,
       "overflow_y": null,
       "padding": null,
       "right": null,
       "top": null,
       "visibility": null,
       "width": null
      }
     },
     "a97f304ebb174b2491a1586aaceba250": {
      "model_module": "@jupyter-widgets/base",
      "model_module_version": "1.2.0",
      "model_name": "LayoutModel",
      "state": {
       "_model_module": "@jupyter-widgets/base",
       "_model_module_version": "1.2.0",
       "_model_name": "LayoutModel",
       "_view_count": null,
       "_view_module": "@jupyter-widgets/base",
       "_view_module_version": "1.2.0",
       "_view_name": "LayoutView",
       "align_content": null,
       "align_items": null,
       "align_self": null,
       "border": null,
       "bottom": null,
       "display": null,
       "flex": null,
       "flex_flow": null,
       "grid_area": null,
       "grid_auto_columns": null,
       "grid_auto_flow": null,
       "grid_auto_rows": null,
       "grid_column": null,
       "grid_gap": null,
       "grid_row": null,
       "grid_template_areas": null,
       "grid_template_columns": null,
       "grid_template_rows": null,
       "height": null,
       "justify_content": null,
       "justify_items": null,
       "left": null,
       "margin": null,
       "max_height": null,
       "max_width": null,
       "min_height": null,
       "min_width": null,
       "object_fit": null,
       "object_position": null,
       "order": null,
       "overflow": null,
       "overflow_x": null,
       "overflow_y": null,
       "padding": null,
       "right": null,
       "top": null,
       "visibility": null,
       "width": null
      }
     },
     "b0e38e8d9de84f9f9eea1fd138a01851": {
      "model_module": "@jupyter-widgets/controls",
      "model_module_version": "1.5.0",
      "model_name": "FloatProgressModel",
      "state": {
       "_dom_classes": [],
       "_model_module": "@jupyter-widgets/controls",
       "_model_module_version": "1.5.0",
       "_model_name": "FloatProgressModel",
       "_view_count": null,
       "_view_module": "@jupyter-widgets/controls",
       "_view_module_version": "1.5.0",
       "_view_name": "ProgressView",
       "bar_style": "success",
       "description": "",
       "description_tooltip": null,
       "layout": "IPY_MODEL_e3cff9d5a4374f22b14493ec88d5ac3f",
       "max": 500.0,
       "min": 0.0,
       "orientation": "horizontal",
       "style": "IPY_MODEL_105d20bd2a024568b6326ba6ed64fb18",
       "value": 500.0
      }
     },
     "b839e5622a414144a209db171a040bd7": {
      "model_module": "@jupyter-widgets/controls",
      "model_module_version": "1.5.0",
      "model_name": "HBoxModel",
      "state": {
       "_dom_classes": [],
       "_model_module": "@jupyter-widgets/controls",
       "_model_module_version": "1.5.0",
       "_model_name": "HBoxModel",
       "_view_count": null,
       "_view_module": "@jupyter-widgets/controls",
       "_view_module_version": "1.5.0",
       "_view_name": "HBoxView",
       "box_style": "",
       "children": [
        "IPY_MODEL_2dc030f9b4bd43c99c3cf0bcde2cf87f",
        "IPY_MODEL_b0e38e8d9de84f9f9eea1fd138a01851",
        "IPY_MODEL_1d18a487ce964bd88a1f0abb0cd848d3"
       ],
       "layout": "IPY_MODEL_9e38e4dc12c648d5b9bf190f674e1f30"
      }
     },
     "e3cff9d5a4374f22b14493ec88d5ac3f": {
      "model_module": "@jupyter-widgets/base",
      "model_module_version": "1.2.0",
      "model_name": "LayoutModel",
      "state": {
       "_model_module": "@jupyter-widgets/base",
       "_model_module_version": "1.2.0",
       "_model_name": "LayoutModel",
       "_view_count": null,
       "_view_module": "@jupyter-widgets/base",
       "_view_module_version": "1.2.0",
       "_view_name": "LayoutView",
       "align_content": null,
       "align_items": null,
       "align_self": null,
       "border": null,
       "bottom": null,
       "display": null,
       "flex": null,
       "flex_flow": null,
       "grid_area": null,
       "grid_auto_columns": null,
       "grid_auto_flow": null,
       "grid_auto_rows": null,
       "grid_column": null,
       "grid_gap": null,
       "grid_row": null,
       "grid_template_areas": null,
       "grid_template_columns": null,
       "grid_template_rows": null,
       "height": null,
       "justify_content": null,
       "justify_items": null,
       "left": null,
       "margin": null,
       "max_height": null,
       "max_width": null,
       "min_height": null,
       "min_width": null,
       "object_fit": null,
       "object_position": null,
       "order": null,
       "overflow": null,
       "overflow_x": null,
       "overflow_y": null,
       "padding": null,
       "right": null,
       "top": null,
       "visibility": null,
       "width": null
      }
     }
    },
    "version_major": 2,
    "version_minor": 0
   }
  }
 },
 "nbformat": 4,
 "nbformat_minor": 5
}
